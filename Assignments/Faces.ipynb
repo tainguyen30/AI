{
  "nbformat": 4,
  "nbformat_minor": 0,
  "metadata": {
    "colab": {
      "provenance": [],
      "mount_file_id": "1Pv6rBo7didtC9sOmpebwC3_IVwuOcvbq",
      "authorship_tag": "ABX9TyMwg4pRUBTU2QeyfEjqzN8p",
      "include_colab_link": true
    },
    "kernelspec": {
      "name": "python3",
      "display_name": "Python 3"
    },
    "language_info": {
      "name": "python"
    },
    "gpuClass": "standard",
    "accelerator": "GPU"
  },
  "cells": [
    {
      "cell_type": "markdown",
      "metadata": {
        "id": "view-in-github",
        "colab_type": "text"
      },
      "source": [
        "<a href=\"https://colab.research.google.com/github/tainguyen30/AI-2022-2023/blob/main/Faces.ipynb\" target=\"_parent\"><img src=\"https://colab.research.google.com/assets/colab-badge.svg\" alt=\"Open In Colab\"/></a>"
      ]
    },
    {
      "cell_type": "code",
      "execution_count": 1,
      "metadata": {
        "id": "jySMbOnVFAIV",
        "colab": {
          "base_uri": "https://localhost:8080/",
          "height": 0
        },
        "outputId": "2da02d7d-369b-4502-9db2-ff7526e442df"
      },
      "outputs": [
        {
          "output_type": "stream",
          "name": "stdout",
          "text": [
            "Drive already mounted at /content/drive; to attempt to forcibly remount, call drive.mount(\"/content/drive\", force_remount=True).\n"
          ]
        }
      ],
      "source": [
        "from google.colab import drive\n",
        "drive.mount('/content/drive')"
      ]
    },
    {
      "cell_type": "code",
      "source": [
        "# Khai báo và sử dụng các thư viện sau\n",
        "from os import listdir\n",
        "from numpy import asarray, save\n",
        "from keras.utils import load_img\n",
        "from keras.utils import img_to_array\n",
        "import numpy as np\n",
        "from sklearn.model_selection import train_test_split\n",
        "from keras.datasets import cifar100\n",
        "import matplotlib.pyplot as plt\n",
        "from keras.layers import Dense, Dropout, Flatten, Conv2D, MaxPooling2D, Normalization\n",
        "from keras.models import Sequential, Model\n",
        "from keras import Input\n",
        "from keras.layers import LeakyReLU\n",
        "from keras.optimizers import Adam"
      ],
      "metadata": {
        "id": "PMNtfoJ8FS8Z"
      },
      "execution_count": 10,
      "outputs": []
    },
    {
      "cell_type": "code",
      "source": [
        "%cd /content/drive/MyDrive/Colab Notebooks/DATA/Face"
      ],
      "metadata": {
        "id": "-xYOeNPKFSlX",
        "colab": {
          "base_uri": "https://localhost:8080/",
          "height": 0
        },
        "outputId": "1ba46410-6a25-4db5-e8fb-176538dd7bf5"
      },
      "execution_count": 2,
      "outputs": [
        {
          "output_type": "stream",
          "name": "stdout",
          "text": [
            "/content/drive/MyDrive/Colab Notebooks/DATA/Face\n"
          ]
        }
      ]
    },
    {
      "cell_type": "code",
      "source": [
        "from numpy import asarray\n",
        "\n",
        "folder = '/content/drive/MyDrive/Colab Notebooks/DATA/Face/'\n",
        "photos, labels = list(), list()\n",
        "for file in listdir(folder):\n",
        "  output = 0.0\n",
        "  if file.startswith('tien'):\n",
        "    output = 0\n",
        "  if file.startswith('thai'):\n",
        "    output = 1\n",
        "  if file.startswith('TanDat'):\n",
        "    output = 2\n",
        "  if file.startswith('SonTung'):\n",
        "    output = 3\n",
        "  if file.startswith('sang'):\n",
        "    output = 4\n",
        "  if file.startswith('pqhuy'):\n",
        "    output = 5\n",
        "  if file.startswith('Phuc'):\n",
        "    output = 6\n",
        "  if file.startswith('Phat'):\n",
        "    output = 7\n",
        "  if file.startswith('NTKiet'):\n",
        "    output = 8\n",
        "  if file.startswith('ngocThach'):\n",
        "    output = 9\n",
        "  if file.startswith('minh'):\n",
        "    output = 10\n",
        "  if file.startswith('kiet'):\n",
        "    output = 11\n",
        "  if file.startswith('HuuLong'):\n",
        "    output = 12\n",
        "  if file.startswith('HQHuy'):\n",
        "    output = 13\n",
        "  if file.startswith('Hoang'):\n",
        "    output = 14\n",
        "  if file.startswith('hoaifong'):\n",
        "    output = 15\n",
        "  if file.startswith('Hieu'):\n",
        "    output = 16\n",
        "  if file.startswith('hau'):\n",
        "    output = 17\n",
        "  if file.startswith('hakiet'):\n",
        "    output = 18\n",
        "  if file.startswith('Ha'):\n",
        "    output = 19\n",
        "  if file.startswith('dung'):\n",
        "    output = 20\n",
        "  if file.startswith('DangKhoa'):\n",
        "    output = 21\n",
        "  if file.startswith('QuangPhuc'):\n",
        "    output = 22\n",
        "  photo = load_img(folder + file, target_size=(40, 40))\n",
        "  photo = img_to_array(photo)\n",
        "  photos.append(photo)\n",
        "  labels.append(output)\n",
        "\n",
        "photos = asarray(photos)\n",
        "labels = asarray(labels)\n",
        "print(photos.shape, labels.shape)\n",
        "save('/content/drive/MyDrive/Colab Notebooks/DATA/Face/Face_photos.npy', photos)\n",
        "save('/content/drive/MyDrive/Colab Notebooks/DATA/Face/Face_labels.npy', labels)"
      ],
      "metadata": {
        "id": "T0Ie2ljVFSio",
        "colab": {
          "base_uri": "https://localhost:8080/",
          "height": 0
        },
        "outputId": "1fb30835-be85-4fe1-9220-3465b7f20260"
      },
      "execution_count": 3,
      "outputs": [
        {
          "output_type": "stream",
          "name": "stdout",
          "text": [
            "(1439, 40, 40, 3) (1439,)\n"
          ]
        }
      ]
    },
    {
      "cell_type": "code",
      "source": [
        "# Load images and labels\n",
        "from keras.utils import to_categorical #one hot encoding\n",
        "photos = np.load('/content/drive/MyDrive/Colab Notebooks/DATA/Face/Face_photos.npy')\n",
        "labels = np.load('/content/drive/MyDrive/Colab Notebooks/DATA/Face/Face_labels.npy')\n",
        "labels_one_hot = to_categorical(labels)\n",
        "x_train, x_test, y_train, y_test = train_test_split(photos, labels_one_hot, test_size = 0.3, random_state = 100)"
      ],
      "metadata": {
        "id": "3pEkdCKlGkit"
      },
      "execution_count": 11,
      "outputs": []
    },
    {
      "cell_type": "code",
      "source": [
        "model = Sequential()\n",
        "#Convolutional\n",
        "model.add(Conv2D(32, kernel_size= (3,3), activation= 'relu', input_shape = (40,40,3), padding= 'same'))\n",
        "model.add(MaxPooling2D((2,2), padding= 'same'))\n",
        "\n",
        "model.add(Conv2D(64, kernel_size= (3,3), activation= 'relu', padding= 'same'))\n",
        "model.add(MaxPooling2D((2,2), padding= 'same'))\n",
        "\n",
        "model.add(Conv2D(128, kernel_size= (3,3), activation= 'relu', padding= 'same'))\n",
        "model.add(Conv2D(128, kernel_size= (3,3), activation= 'relu', padding= 'same'))\n",
        "model.add(MaxPooling2D((2,2), padding= 'same'))\n",
        "\n",
        "model.add(Conv2D(256, kernel_size= (3,3), activation= 'relu', padding= 'same'))\n",
        "model.add(Conv2D(256, kernel_size= (3,3), activation= 'relu', padding= 'same'))\n",
        "model.add(MaxPooling2D((2,2), padding= 'same'))\n",
        "\n",
        "# Fully connected layers\n",
        "model.add(Flatten())\n",
        "model.add(Dense(1024, activation= 'relu'))\n",
        "model.add(Dropout(0.5))\n",
        "model.add(Dense(1024, activation= 'relu'))\n",
        "model.add(Dropout(0.5))\n",
        "model.add(Dense(23, activation= 'softmax'))  # Total output = 23\n",
        "model.compile(loss='categorical_crossentropy', optimizer = Adam(), metrics=['accuracy'])\n",
        "model.summary()"
      ],
      "metadata": {
        "colab": {
          "base_uri": "https://localhost:8080/",
          "height": 0
        },
        "id": "xMZgSUwSGkmD",
        "outputId": "ec268680-50d0-4af6-b0b1-00db3ab8351b"
      },
      "execution_count": 19,
      "outputs": [
        {
          "output_type": "stream",
          "name": "stdout",
          "text": [
            "Model: \"sequential_3\"\n",
            "_________________________________________________________________\n",
            " Layer (type)                Output Shape              Param #   \n",
            "=================================================================\n",
            " conv2d_18 (Conv2D)          (None, 40, 40, 32)        896       \n",
            "                                                                 \n",
            " max_pooling2d_12 (MaxPoolin  (None, 20, 20, 32)       0         \n",
            " g2D)                                                            \n",
            "                                                                 \n",
            " conv2d_19 (Conv2D)          (None, 20, 20, 64)        18496     \n",
            "                                                                 \n",
            " max_pooling2d_13 (MaxPoolin  (None, 10, 10, 64)       0         \n",
            " g2D)                                                            \n",
            "                                                                 \n",
            " conv2d_20 (Conv2D)          (None, 10, 10, 128)       73856     \n",
            "                                                                 \n",
            " conv2d_21 (Conv2D)          (None, 10, 10, 128)       147584    \n",
            "                                                                 \n",
            " max_pooling2d_14 (MaxPoolin  (None, 5, 5, 128)        0         \n",
            " g2D)                                                            \n",
            "                                                                 \n",
            " conv2d_22 (Conv2D)          (None, 5, 5, 256)         295168    \n",
            "                                                                 \n",
            " conv2d_23 (Conv2D)          (None, 5, 5, 256)         590080    \n",
            "                                                                 \n",
            " max_pooling2d_15 (MaxPoolin  (None, 3, 3, 256)        0         \n",
            " g2D)                                                            \n",
            "                                                                 \n",
            " flatten_3 (Flatten)         (None, 2304)              0         \n",
            "                                                                 \n",
            " dense_9 (Dense)             (None, 1024)              2360320   \n",
            "                                                                 \n",
            " dropout_6 (Dropout)         (None, 1024)              0         \n",
            "                                                                 \n",
            " dense_10 (Dense)            (None, 1024)              1049600   \n",
            "                                                                 \n",
            " dropout_7 (Dropout)         (None, 1024)              0         \n",
            "                                                                 \n",
            " dense_11 (Dense)            (None, 23)                23575     \n",
            "                                                                 \n",
            "=================================================================\n",
            "Total params: 4,559,575\n",
            "Trainable params: 4,559,575\n",
            "Non-trainable params: 0\n",
            "_________________________________________________________________\n"
          ]
        }
      ]
    },
    {
      "cell_type": "code",
      "source": [
        "from keras.preprocessing.image import ImageDataGenerator\n",
        "aug = ImageDataGenerator(rotation_range=20, zoom_range=0.1,\n",
        "    rescale=1./255,\n",
        "\twidth_shift_range=0.1,\n",
        "    height_shift_range=0.1,\n",
        "\thorizontal_flip=True,\n",
        "    brightness_range=[0.2,1.5], fill_mode=\"nearest\")"
      ],
      "metadata": {
        "id": "ocwIpnQOGkw-"
      },
      "execution_count": 20,
      "outputs": []
    },
    {
      "cell_type": "code",
      "source": [
        "train = model.fit_generator(aug.flow(x_train, y_train, batch_size=64),\n",
        "                               epochs=50,\n",
        "                               validation_data=aug.flow(x_test,y_test,\n",
        "                               batch_size=len(x_test)))\n",
        "\n",
        "#Save model\n",
        "model.save('/content/drive/MyDrive/Colab Notebooks/DATA/Face.h5')"
      ],
      "metadata": {
        "id": "m091AHJxFSfr",
        "colab": {
          "base_uri": "https://localhost:8080/",
          "height": 0
        },
        "outputId": "9bf82efa-2022-475b-83d1-055d9d851861"
      },
      "execution_count": 23,
      "outputs": [
        {
          "output_type": "stream",
          "name": "stdout",
          "text": [
            "Epoch 1/50\n",
            " 1/16 [>.............................] - ETA: 1s - loss: 0.0315 - accuracy: 0.9844"
          ]
        },
        {
          "output_type": "stream",
          "name": "stderr",
          "text": [
            "<ipython-input-23-46dfb577bcfe>:1: UserWarning: `Model.fit_generator` is deprecated and will be removed in a future version. Please use `Model.fit`, which supports generators.\n",
            "  train = model.fit_generator(aug.flow(x_train, y_train, batch_size=64),\n"
          ]
        },
        {
          "output_type": "stream",
          "name": "stdout",
          "text": [
            "16/16 [==============================] - 2s 120ms/step - loss: 0.0488 - accuracy: 0.9841 - val_loss: 0.0967 - val_accuracy: 0.9745\n",
            "Epoch 2/50\n",
            "16/16 [==============================] - 1s 90ms/step - loss: 0.0620 - accuracy: 0.9841 - val_loss: 0.1172 - val_accuracy: 0.9676\n",
            "Epoch 3/50\n",
            "16/16 [==============================] - 2s 99ms/step - loss: 0.1178 - accuracy: 0.9633 - val_loss: 0.1632 - val_accuracy: 0.9653\n",
            "Epoch 4/50\n",
            "16/16 [==============================] - 2s 120ms/step - loss: 0.0617 - accuracy: 0.9782 - val_loss: 0.0784 - val_accuracy: 0.9769\n",
            "Epoch 5/50\n",
            "16/16 [==============================] - 1s 89ms/step - loss: 0.0496 - accuracy: 0.9841 - val_loss: 0.0688 - val_accuracy: 0.9815\n",
            "Epoch 6/50\n",
            "16/16 [==============================] - 1s 85ms/step - loss: 0.0404 - accuracy: 0.9881 - val_loss: 0.0931 - val_accuracy: 0.9745\n",
            "Epoch 7/50\n",
            "16/16 [==============================] - 1s 88ms/step - loss: 0.0654 - accuracy: 0.9801 - val_loss: 0.1258 - val_accuracy: 0.9653\n",
            "Epoch 8/50\n",
            "16/16 [==============================] - 1s 87ms/step - loss: 0.1694 - accuracy: 0.9474 - val_loss: 0.1108 - val_accuracy: 0.9722\n",
            "Epoch 9/50\n",
            "16/16 [==============================] - 1s 88ms/step - loss: 0.1013 - accuracy: 0.9672 - val_loss: 0.0898 - val_accuracy: 0.9745\n",
            "Epoch 10/50\n",
            "16/16 [==============================] - 1s 88ms/step - loss: 0.0558 - accuracy: 0.9782 - val_loss: 0.0666 - val_accuracy: 0.9745\n",
            "Epoch 11/50\n",
            "16/16 [==============================] - 2s 100ms/step - loss: 0.0718 - accuracy: 0.9742 - val_loss: 0.0546 - val_accuracy: 0.9769\n",
            "Epoch 12/50\n",
            "16/16 [==============================] - 2s 137ms/step - loss: 0.0481 - accuracy: 0.9811 - val_loss: 0.0575 - val_accuracy: 0.9907\n",
            "Epoch 13/50\n",
            "16/16 [==============================] - 2s 98ms/step - loss: 0.0327 - accuracy: 0.9911 - val_loss: 0.0413 - val_accuracy: 0.9838\n",
            "Epoch 14/50\n",
            "16/16 [==============================] - 1s 89ms/step - loss: 0.0281 - accuracy: 0.9921 - val_loss: 0.0630 - val_accuracy: 0.9792\n",
            "Epoch 15/50\n",
            "16/16 [==============================] - 1s 87ms/step - loss: 0.0439 - accuracy: 0.9861 - val_loss: 0.0456 - val_accuracy: 0.9838\n",
            "Epoch 16/50\n",
            "16/16 [==============================] - 1s 87ms/step - loss: 0.0265 - accuracy: 0.9921 - val_loss: 0.0576 - val_accuracy: 0.9861\n",
            "Epoch 17/50\n",
            "16/16 [==============================] - 1s 88ms/step - loss: 0.0381 - accuracy: 0.9930 - val_loss: 0.0646 - val_accuracy: 0.9815\n",
            "Epoch 18/50\n",
            "16/16 [==============================] - 1s 89ms/step - loss: 0.0313 - accuracy: 0.9901 - val_loss: 0.0460 - val_accuracy: 0.9861\n",
            "Epoch 19/50\n",
            "16/16 [==============================] - 2s 133ms/step - loss: 0.0234 - accuracy: 0.9921 - val_loss: 0.0669 - val_accuracy: 0.9931\n",
            "Epoch 20/50\n",
            "16/16 [==============================] - 1s 90ms/step - loss: 0.0298 - accuracy: 0.9921 - val_loss: 0.1706 - val_accuracy: 0.9722\n",
            "Epoch 21/50\n",
            "16/16 [==============================] - 1s 90ms/step - loss: 0.0443 - accuracy: 0.9871 - val_loss: 0.0658 - val_accuracy: 0.9861\n",
            "Epoch 22/50\n",
            "16/16 [==============================] - 1s 87ms/step - loss: 0.0215 - accuracy: 0.9901 - val_loss: 0.0870 - val_accuracy: 0.9769\n",
            "Epoch 23/50\n",
            "16/16 [==============================] - 1s 91ms/step - loss: 0.0314 - accuracy: 0.9891 - val_loss: 0.0702 - val_accuracy: 0.9861\n",
            "Epoch 24/50\n",
            "16/16 [==============================] - 1s 89ms/step - loss: 0.0457 - accuracy: 0.9891 - val_loss: 0.0584 - val_accuracy: 0.9838\n",
            "Epoch 25/50\n",
            "16/16 [==============================] - 1s 89ms/step - loss: 0.0327 - accuracy: 0.9921 - val_loss: 0.0718 - val_accuracy: 0.9838\n",
            "Epoch 26/50\n",
            "16/16 [==============================] - 1s 90ms/step - loss: 0.0522 - accuracy: 0.9861 - val_loss: 0.0513 - val_accuracy: 0.9907\n",
            "Epoch 27/50\n",
            "16/16 [==============================] - 2s 131ms/step - loss: 0.0496 - accuracy: 0.9881 - val_loss: 0.0638 - val_accuracy: 0.9815\n",
            "Epoch 28/50\n",
            "16/16 [==============================] - 1s 88ms/step - loss: 0.0473 - accuracy: 0.9821 - val_loss: 0.0559 - val_accuracy: 0.9861\n",
            "Epoch 29/50\n",
            "16/16 [==============================] - 1s 86ms/step - loss: 0.0252 - accuracy: 0.9901 - val_loss: 0.0422 - val_accuracy: 0.9815\n",
            "Epoch 30/50\n",
            "16/16 [==============================] - 1s 93ms/step - loss: 0.0555 - accuracy: 0.9841 - val_loss: 0.0473 - val_accuracy: 0.9907\n",
            "Epoch 31/50\n",
            "16/16 [==============================] - 1s 87ms/step - loss: 0.0452 - accuracy: 0.9811 - val_loss: 0.1043 - val_accuracy: 0.9722\n",
            "Epoch 32/50\n",
            "16/16 [==============================] - 1s 87ms/step - loss: 0.0327 - accuracy: 0.9871 - val_loss: 0.0993 - val_accuracy: 0.9699\n",
            "Epoch 33/50\n",
            "16/16 [==============================] - 2s 101ms/step - loss: 0.0548 - accuracy: 0.9851 - val_loss: 0.0585 - val_accuracy: 0.9838\n",
            "Epoch 34/50\n",
            "16/16 [==============================] - 2s 121ms/step - loss: 0.0218 - accuracy: 0.9960 - val_loss: 0.0360 - val_accuracy: 0.9907\n",
            "Epoch 35/50\n",
            "16/16 [==============================] - 1s 88ms/step - loss: 0.0351 - accuracy: 0.9871 - val_loss: 0.0227 - val_accuracy: 0.9907\n",
            "Epoch 36/50\n",
            "16/16 [==============================] - 1s 88ms/step - loss: 0.0234 - accuracy: 0.9950 - val_loss: 0.0596 - val_accuracy: 0.9861\n",
            "Epoch 37/50\n",
            "16/16 [==============================] - 1s 88ms/step - loss: 0.0306 - accuracy: 0.9921 - val_loss: 0.0575 - val_accuracy: 0.9884\n",
            "Epoch 38/50\n",
            "16/16 [==============================] - 1s 87ms/step - loss: 0.0132 - accuracy: 0.9960 - val_loss: 0.0325 - val_accuracy: 0.9884\n",
            "Epoch 39/50\n",
            "16/16 [==============================] - 1s 89ms/step - loss: 0.0111 - accuracy: 0.9970 - val_loss: 0.0503 - val_accuracy: 0.9861\n",
            "Epoch 40/50\n",
            "16/16 [==============================] - 2s 131ms/step - loss: 0.0358 - accuracy: 0.9921 - val_loss: 0.0794 - val_accuracy: 0.9745\n",
            "Epoch 41/50\n",
            "16/16 [==============================] - 2s 131ms/step - loss: 0.0430 - accuracy: 0.9821 - val_loss: 0.0579 - val_accuracy: 0.9792\n",
            "Epoch 42/50\n",
            "16/16 [==============================] - 1s 91ms/step - loss: 0.0533 - accuracy: 0.9811 - val_loss: 0.0921 - val_accuracy: 0.9699\n",
            "Epoch 43/50\n",
            "16/16 [==============================] - 1s 87ms/step - loss: 0.0600 - accuracy: 0.9861 - val_loss: 0.0660 - val_accuracy: 0.9792\n",
            "Epoch 44/50\n",
            "16/16 [==============================] - 1s 89ms/step - loss: 0.0346 - accuracy: 0.9911 - val_loss: 0.0702 - val_accuracy: 0.9884\n",
            "Epoch 45/50\n",
            "16/16 [==============================] - 1s 91ms/step - loss: 0.0523 - accuracy: 0.9861 - val_loss: 0.2117 - val_accuracy: 0.9583\n",
            "Epoch 46/50\n",
            "16/16 [==============================] - 1s 88ms/step - loss: 0.0619 - accuracy: 0.9811 - val_loss: 0.0936 - val_accuracy: 0.9745\n",
            "Epoch 47/50\n",
            "16/16 [==============================] - 1s 89ms/step - loss: 0.0462 - accuracy: 0.9891 - val_loss: 0.0451 - val_accuracy: 0.9861\n",
            "Epoch 48/50\n",
            "16/16 [==============================] - 2s 135ms/step - loss: 0.0559 - accuracy: 0.9851 - val_loss: 0.0778 - val_accuracy: 0.9745\n",
            "Epoch 49/50\n",
            "16/16 [==============================] - 2s 110ms/step - loss: 0.0485 - accuracy: 0.9851 - val_loss: 0.0650 - val_accuracy: 0.9792\n",
            "Epoch 50/50\n",
            "16/16 [==============================] - 1s 90ms/step - loss: 0.1133 - accuracy: 0.9692 - val_loss: 0.2054 - val_accuracy: 0.9421\n"
          ]
        }
      ]
    },
    {
      "cell_type": "code",
      "source": [
        "test_loss, test_acc = model.evaluate(x_test, y_test)\n",
        "print(\"Accuracy:\", test_acc)\n",
        "print('Loss:', test_loss)"
      ],
      "metadata": {
        "id": "dx1cMECPFSc_",
        "colab": {
          "base_uri": "https://localhost:8080/",
          "height": 0
        },
        "outputId": "7772abeb-6083-4a4f-a9bc-de2086831ebe"
      },
      "execution_count": 24,
      "outputs": [
        {
          "output_type": "stream",
          "name": "stdout",
          "text": [
            "14/14 [==============================] - 0s 17ms/step - loss: 38.2426 - accuracy: 0.9421\n",
            "Accuracy: 0.9421296119689941\n",
            "Loss: 38.24260711669922\n"
          ]
        }
      ]
    },
    {
      "cell_type": "code",
      "source": [
        "from keras.models import load_model\n",
        "model = load_model('/content/drive/MyDrive/Colab Notebooks/DATA/Face.h5')"
      ],
      "metadata": {
        "id": "NF5R7ImoFSai"
      },
      "execution_count": 29,
      "outputs": []
    },
    {
      "cell_type": "code",
      "source": [
        "accuracy = train.history['accuracy']\n",
        "loss = train.history['loss']\n",
        "epochs = range(len(accuracy))\n",
        "plt.plot(epochs, accuracy, 'bo', label = 'Training accuracy')\n",
        "plt.plot(epochs, loss, 'b', label = 'Traning loss')\n",
        "plt.show()\n",
        "     "
      ],
      "metadata": {
        "id": "ou4rxym-FSW9",
        "colab": {
          "base_uri": "https://localhost:8080/",
          "height": 430
        },
        "outputId": "3b0648ef-5e4b-43a9-901e-eff34130241c"
      },
      "execution_count": 30,
      "outputs": [
        {
          "output_type": "display_data",
          "data": {
            "text/plain": [
              "<Figure size 640x480 with 1 Axes>"
            ],
            "image/png": "[encoded data removed]"
          },
          "metadata": {}
        }
      ]
    },
    {
      "cell_type": "code",
      "source": [
        "from keras.utils import load_img\n",
        "from keras.utils import img_to_array\n",
        "from pylab import *\n",
        "url = \"/content/drive/MyDrive/Colab Notebooks/DATA/Face/Ha58.jpg\"\n",
        "img = load_img(url)\n",
        "imshow(img)"
      ],
      "metadata": {
        "id": "I06fpnDgFSUi",
        "colab": {
          "base_uri": "https://localhost:8080/",
          "height": 448
        },
        "outputId": "cfeaf6df-a1ff-424c-d27c-18bd7f1558b9"
      },
      "execution_count": 36,
      "outputs": [
        {
          "output_type": "execute_result",
          "data": {
            "text/plain": [
              "<matplotlib.image.AxesImage at 0x7f00334c2040>"
            ]
          },
          "metadata": {},
          "execution_count": 36
        },
        {
          "output_type": "display_data",
          "data": {
            "text/plain": [
              "<Figure size 640x480 with 1 Axes>"
            ],
            "image/png": "[encoded data removed]"
          },
          "metadata": {}
        }
      ]
    },
    {
      "cell_type": "code",
      "source": [
        "img = load_img(url, target_size = (40,40))\n",
        "imshow(img)\n",
        "img = img_to_array(img)\n",
        "img = img.reshape(1,40,40,3)\n",
        "img = img.astype('float32')\n",
        "img = img/255\n",
        "a = np.argmax(model.predict(img), axis = -1)\n",
        "if(a == array([0])):\n",
        "  print(\"Tien\")\n",
        "if(a == array([1])):\n",
        "  print(\"Thai\")\n",
        "if(a == array([2])):\n",
        "  print(\"Tan Dat\")\n",
        "if(a == array([3])):\n",
        "  print(\"Son Tung\")\n",
        "if(a == array([4])):\n",
        "  print(\"Sang\")\n",
        "if(a == array([5])):\n",
        "  print(\"PQ Huy\")\n",
        "if(a == array([6])):\n",
        "  print(\"Phuc\")\n",
        "if(a == array([7])):\n",
        "  print(\"Phat\")\n",
        "if(a == array([8])):\n",
        "  print(\"NT Kiet\")\n",
        "if(a == array([9])):\n",
        "  print(\"Ngoc Thach\")\n",
        "if(a == array([10])):\n",
        "  print(\"Minh\")\n",
        "if(a == array([11])):\n",
        "  print(\"Kiet\")\n",
        "if(a == array([12])):\n",
        "  print(\"Huu Long\")\n",
        "if(a == array([13])):\n",
        "  print(\"HQ Huy\")\n",
        "if(a == array([14])):\n",
        "  print(\"Hoang\")\n",
        "if(a == array([15])):\n",
        "  print(\"Hoai Phong\")\n",
        "if(a == array([16])):\n",
        "  print(\"Hieu\")\n",
        "if(a == array([17])):\n",
        "  print(\"Hau\")\n",
        "if(a == array([18])):\n",
        "  print(\"Ha Kiet\")\n",
        "if(a == array([19])):\n",
        "  print(\"Ha\")\n",
        "if(a == array([20])):\n",
        "  print(\"Dung\")\n",
        "if(a == array([21])):\n",
        "  print(\"Dang Khoa\")\n",
        "if(a == array([22])):\n",
        "  print(\"Quang Phuc\")"
      ],
      "metadata": {
        "id": "GONTTmOSFSMa",
        "colab": {
          "base_uri": "https://localhost:8080/",
          "height": 466
        },
        "outputId": "1385e2ac-cf2c-45c2-c46f-f30ab83e4045"
      },
      "execution_count": 37,
      "outputs": [
        {
          "output_type": "stream",
          "name": "stdout",
          "text": [
            "1/1 [==============================] - 0s 18ms/step\n",
            "Ha\n"
          ]
        },
        {
          "output_type": "display_data",
          "data": {
            "text/plain": [
              "<Figure size 640x480 with 1 Axes>"
            ],
            "image/png": "[encoded data removed]"
          },
          "metadata": {}
        }
      ]
    },
    {
      "cell_type": "code",
      "source": [],
      "metadata": {
        "id": "h9vjp9mDFR2A"
      },
      "execution_count": null,
      "outputs": []
    }
  ]
}