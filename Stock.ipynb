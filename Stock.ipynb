{
  "nbformat": 4,
  "nbformat_minor": 0,
  "metadata": {
    "colab": {
      "provenance": [],
      "authorship_tag": "ABX9TyOFHAOi4pMV+GeluMB1kxjl",
      "include_colab_link": true
    },
    "kernelspec": {
      "name": "python3",
      "display_name": "Python 3"
    },
    "language_info": {
      "name": "python"
    }
  },
  "cells": [
    {
      "cell_type": "markdown",
      "metadata": {
        "id": "view-in-github",
        "colab_type": "text"
      },
      "source": [
        "<a href=\"https://colab.research.google.com/github/tainguyen30/AI/blob/master/Stock.ipynb\" target=\"_parent\"><img src=\"https://colab.research.google.com/assets/colab-badge.svg\" alt=\"Open In Colab\"/></a>"
      ]
    },
    {
      "cell_type": "code",
      "execution_count": null,
      "metadata": {
        "id": "5NsA39ofqUT_"
      },
      "outputs": [],
      "source": [
        "# Making prediction for FPT Stock price based on dataset from 25/12/2018 9:15 to 22/12/2020 14:46 by building LSTM model"
      ]
    },
    {
      "cell_type": "markdown",
      "source": [
        "  PART 1: IMPORT NECESSARY LIBRARIES"
      ],
      "metadata": {
        "id": "ifVLtbvHDlJp"
      }
    },
    {
      "cell_type": "code",
      "source": [
        "# First we will import the necessary Libraries\n",
        "import pandas as pd\n",
        "import numpy as np\n",
        "import math\n",
        "\n",
        "# For PLotting\n",
        "import matplotlib.pyplot as plt\n",
        "\n",
        "# For Evalution we will use these library\n",
        "from sklearn.metrics import r2_score  # compatibility\n",
        "from sklearn.metrics import mean_absolute_error   # average absolute error\n",
        "from sklearn.metrics import mean_absolute_percentage_error  # average percentage absolute error\n",
        "from sklearn.preprocessing import MinMaxScaler\n",
        "\n",
        "# For model building we will use these library\n",
        "from keras.models import Sequential   # input\n",
        "from keras.layers import Dense        # output\n",
        "from keras.layers import Dropout      # Avoid overfitting\n",
        "from keras.layers import LSTM\n",
        "from keras.callbacks import ModelCheckpoint   # Best train"
      ],
      "metadata": {
        "id": "kxnleWSePB9v"
      },
      "execution_count": 1,
      "outputs": []
    },
    {
      "cell_type": "markdown",
      "source": [
        "PART 2: READ DATA"
      ],
      "metadata": {
        "id": "EbLjV_NpDzPK"
      }
    },
    {
      "cell_type": "code",
      "source": [
        "# From CSV file\n",
        "df = pd.read_csv(\"/content/FPT.csv\")\n",
        "print('Total time steps present in the dataset: ',df.shape[0])\n",
        "print('Total number of fields present in the dataset: ',df.shape[1])\n",
        "df.shape"
      ],
      "metadata": {
        "colab": {
          "base_uri": "https://localhost:8080/"
        },
        "id": "-3UZfCARPCJS",
        "outputId": "58ab6020-32e8-4be5-a1c8-35ddb1422f2c"
      },
      "execution_count": 6,
      "outputs": [
        {
          "output_type": "stream",
          "name": "stdout",
          "text": [
            "Total number of days present in the dataset:  97406\n",
            "Total number of fields present in the dataset:  8\n"
          ]
        },
        {
          "output_type": "execute_result",
          "data": {
            "text/plain": [
              "(97406, 8)"
            ]
          },
          "metadata": {},
          "execution_count": 6
        }
      ]
    },
    {
      "cell_type": "markdown",
      "source": [
        "PART 3: INFO ABOUT DATAFRAME"
      ],
      "metadata": {
        "id": "CKg44qjxFZoU"
      }
    },
    {
      "cell_type": "code",
      "source": [],
      "metadata": {
        "id": "Rmr1vZ5BPCQs"
      },
      "execution_count": null,
      "outputs": []
    },
    {
      "cell_type": "code",
      "source": [],
      "metadata": {
        "id": "gg8oDXQzFmrJ"
      },
      "execution_count": null,
      "outputs": []
    },
    {
      "cell_type": "code",
      "source": [],
      "metadata": {
        "id": "YgqdxxRzPCTb"
      },
      "execution_count": null,
      "outputs": []
    },
    {
      "cell_type": "code",
      "source": [],
      "metadata": {
        "id": "0IRddQbBPCWH"
      },
      "execution_count": null,
      "outputs": []
    },
    {
      "cell_type": "code",
      "source": [],
      "metadata": {
        "id": "vxwsTiBnPCZA"
      },
      "execution_count": null,
      "outputs": []
    },
    {
      "cell_type": "code",
      "source": [],
      "metadata": {
        "id": "96HHY2CiPCd1"
      },
      "execution_count": null,
      "outputs": []
    },
    {
      "cell_type": "code",
      "source": [],
      "metadata": {
        "id": "KQTI4a0zPCkM"
      },
      "execution_count": null,
      "outputs": []
    },
    {
      "cell_type": "code",
      "source": [],
      "metadata": {
        "id": "0ihwC_3IPCmv"
      },
      "execution_count": null,
      "outputs": []
    },
    {
      "cell_type": "code",
      "source": [],
      "metadata": {
        "id": "M1x4_IfDPCpY"
      },
      "execution_count": null,
      "outputs": []
    },
    {
      "cell_type": "code",
      "source": [],
      "metadata": {
        "id": "Prq-3unMPCsT"
      },
      "execution_count": null,
      "outputs": []
    },
    {
      "cell_type": "code",
      "source": [],
      "metadata": {
        "id": "y91OtWl6PCvG"
      },
      "execution_count": null,
      "outputs": []
    }
  ]
}